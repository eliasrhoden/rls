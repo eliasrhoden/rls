{
 "cells": [
  {
   "cell_type": "markdown",
   "metadata": {},
   "source": [
    "# Recursive Least Squares\n",
    "\n",
    "This notebook implements the Recurisve Least squares algorithm used for online sys-id.\n",
    "\n",
    "\n",
    "2020.11.01: E.R.\n"
   ]
  },
  {
   "cell_type": "markdown",
   "metadata": {},
   "source": [
    "## Least squares system identification\n",
    "\n",
    "\n",
    "Given input data $[u_0, u_1, ..., u_{N-1}]$  and output data $ [y_0, y_1, ..., y_N]$.\n",
    "\n",
    "The goal is to estimate a discrete transfer function $G(z) = \\frac{B(z)}{A(z)}$ for the data sequences.\n",
    "\n",
    "$$\n",
    "G(z) = \\frac{b_{1}\\, z^{n-1} + ...  + b_{n-1} \\, z + b_{n} }{z^n + a_{1}\\, z^{n-1} + ...  + a_{n-1} \\, z + a_n}\n",
    "$$\n",
    "\n",
    "The difference equation for the system is then explicity\n",
    "\n",
    "$$\n",
    "y[k] = -a_1 \\, y[k-1] - a_2 \\, y[k-2] - ... - a_n \\, y[k-n] + b_1 \\, u[k-1] + b_2 \\, u[k-2] + ... + b_{n} \\, u[k-n]\n",
    "$$\n",
    "\n",
    "Where the parameter vector $\\theta$ is defined as\n",
    "\n",
    "$$\n",
    "\\theta = [a_{1}, ..., a_n, b_{1}, ..., b_n]^T \\ .\n",
    "$$\n",
    "\n",
    "Defining the regressor $\\varphi_{k-1}$ as\n",
    "\n",
    "$$\n",
    "\\varphi_{k-1} = [-y[k-1], ... ,-y[k-n], u[k-1], ..., u[k-n]]^T\n",
    "$$\n",
    "\n",
    "then the output can be described as\n",
    "\n",
    "$$\n",
    "y_k = \\varphi^T_{k-1} \\, \\theta\n",
    "$$\n",
    "\n"
   ]
  },
  {
   "cell_type": "markdown",
   "metadata": {},
   "source": [
    "## Least squares for entire sequence\n",
    "\n",
    "$$\n",
    "\\Phi = \\left[\n",
    "\\begin{array}{c}\n",
    "\\varphi_{j}^T \\\\\n",
    "\\varphi_{j+1}^T \\\\\n",
    "\\varphi_{j+2}^T \\\\\n",
    "\\vdots \\\\\n",
    "\\varphi_{j+n-1}^T \n",
    "\\end{array}\n",
    "\\right]\n",
    "$$\n",
    "\n",
    "\n",
    "$$\n",
    "Y = [y[j+1], \\quad y[j+2], \\quad y[j+3], \\, ... \\, y[j+n]]\n",
    "$$\n",
    "\n",
    "Then\n",
    "\n",
    "$$\n",
    "\\Phi \\, \\theta = Y\n",
    "$$\n",
    "\n",
    "\n",
    "$$\n",
    "\\hat{\\theta} = \\left(\\Phi^T \\, \\Phi \\right)^{-1} \\Phi^T \\, Y\n",
    "$$\n",
    "\n",
    "\n",
    "Weighting the error with a weight matrix $W$\n",
    "\n",
    "$$\n",
    "\\hat{\\theta} = \\left(\\Phi^T \\, W\\, \\Phi \\right)^{-1}  \\Phi^T \\, W\\, Y\n",
    "$$\n",
    "\n"
   ]
  },
  {
   "cell_type": "code",
   "execution_count": 1,
   "metadata": {},
   "outputs": [],
   "source": [
    "# General imports\n",
    "import numpy as np\n",
    "import matplotlib.pyplot as plt\n",
    "import control\n",
    "from scipy.linalg import inv"
   ]
  },
  {
   "cell_type": "markdown",
   "metadata": {},
   "source": [
    "## Generate test sequence"
   ]
  },
  {
   "cell_type": "code",
   "execution_count": 2,
   "metadata": {},
   "outputs": [
    {
     "data": {
      "image/png": "[encoded data removed]",
      "text/plain": [
       "<Figure size 432x288 with 1 Axes>"
      ]
     },
     "metadata": {
      "needs_background": "light"
     },
     "output_type": "display_data"
    },
    {
     "data": {
      "text/latex": [
       "$$\\frac{0.1485 z + 0.1343}{z^2 - 1.529 z + 0.7408}\\quad dt = 0.05$$"
      ],
      "text/plain": [
       "\n",
       "  0.1485 z + 0.1343\n",
       "----------------------\n",
       "z^2 - 1.529 z + 0.7408\n",
       "\n",
       "dt = 0.05"
      ]
     },
     "execution_count": 2,
     "metadata": {},
     "output_type": "execute_result"
    }
   ],
   "source": [
    "Tf = 10\n",
    "dT = 0.05\n",
    "\n",
    "# True plant\n",
    "w0 = 10\n",
    "zeta = 0.3\n",
    "Kp = 1.337\n",
    "\n",
    "G = control.tf([w0**2],[1,2*w0*zeta,w0**2])*Kp\n",
    "\n",
    "\n",
    "N = int(Tf/dT)\n",
    "\n",
    "# Discretize\n",
    "\n",
    "Gd = control.sample_system(G,dT)\n",
    "\n",
    "GD_A = Gd.den[0][0]\n",
    "GD_B = Gd.num[0][0]\n",
    "\n",
    "b0 = GD_B[0]\n",
    "b1 = GD_B[1]\n",
    "\n",
    "a1 = GD_A[1]\n",
    "a2 = GD_A[2]\n",
    "\n",
    "Y = np.zeros(N)\n",
    "T = np.linspace(0,(N-1)*dT,N)\n",
    "\n",
    "# Ref signal\n",
    "sq_p = int(2/dT)\n",
    "U = [1 + round((i % sq_p)/sq_p) for i in range(N)]\n",
    "U = np.array(U)\n",
    "\n",
    "U[0:5] = 0\n",
    "\n",
    "theta_true = np.array([a1,a2,b0,b1])\n",
    "\n",
    "for i in range(2,N):\n",
    "    phi = np.array([-Y[i-1],-Y[i-2],U[i-1],U[i-2]])\n",
    "    Y[i] = phi @ theta_true\n",
    "\n",
    "\n",
    "plt.plot(T,U)\n",
    "plt.plot(T,Y)\n",
    "plt.legend(['U','Y'])\n",
    "plt.show()\n",
    "\n",
    "Gd"
   ]
  },
  {
   "cell_type": "markdown",
   "metadata": {},
   "source": [
    "## Normal least squares for entire sequence"
   ]
  },
  {
   "cell_type": "code",
   "execution_count": 3,
   "metadata": {},
   "outputs": [
    {
     "name": "stdout",
     "output_type": "stream",
     "text": [
      "True theta\n",
      "[-1.5292891   0.74081822  0.14852619  0.13428824]\n",
      "Estimated theta\n",
      "[-1.5292891   0.74081822  0.14852619  0.13428824]\n",
      "Estimated theta w/ discount\n",
      "[-1.5292891   0.74081822  0.14852619  0.13428824]\n"
     ]
    }
   ],
   "source": [
    "# Normal least squares solution\n",
    "\n",
    "\n",
    "M = np.zeros((N,4))\n",
    "B = np.zeros(N)\n",
    "\n",
    "for i,k in enumerate(range(2,N-1)):\n",
    "    M[i,:] = np.array([-Y[k-1], -Y[k-2],U[k-1],U[k-2]])\n",
    "    B[i] = Y[k]\n",
    "    \n",
    "theta_hat = inv(M.T @ M) @ M.T @ B\n",
    "\n",
    "# Estimate with discount factor\n",
    "Nm = len(M)\n",
    "lamb = 0.7\n",
    "w_lambda = 0.9**np.linspace(0,Nm-1,Nm) \n",
    "w_lambda = np.flip(w_lambda)\n",
    "\n",
    "W = np.diag(w_lambda)\n",
    "\n",
    "theta_hat_w = inv(M.T @ W @ M) @ M.T@ W @ B\n",
    "\n",
    "\n",
    "\n",
    "print(\"True theta\")\n",
    "print(theta_true)\n",
    "\n",
    "print(\"Estimated theta\")\n",
    "print(theta_hat)\n",
    "\n",
    "print(\"Estimated theta w/ discount\")\n",
    "print(theta_hat_w)\n",
    "\n"
   ]
  },
  {
   "cell_type": "code",
   "execution_count": 4,
   "metadata": {},
   "outputs": [
    {
     "name": "stdout",
     "output_type": "stream",
     "text": [
      "[-1.5292891   0.74081822  0.14852619  0.13428824]\n",
      "[-1.5292891   0.74081822  0.14852619  0.13428824]\n"
     ]
    }
   ],
   "source": [
    "# Functions for use in comparison to the recursive algorithm\n",
    "\n",
    "def ls(U,Y):\n",
    "    N = len(Y)-2\n",
    "    \n",
    "    M = np.zeros((N,4))\n",
    "    B = np.zeros(N)\n",
    "\n",
    "    for i,k in enumerate(range(2,N-1)):\n",
    "        M[i,:] = np.array([-Y[k-1], -Y[k-2],U[k-1],U[k-2]])\n",
    "        B[i] = Y[k]\n",
    "\n",
    "    theta_hat = inv(M.T @ M) @ M.T @ B\n",
    "    return theta_hat\n",
    "\n",
    "\n",
    "def ls_lambda(U, Y, lamb):\n",
    "    N = len(Y)-2\n",
    "\n",
    "    M = np.zeros((N,4))\n",
    "    B = np.zeros(N)\n",
    "\n",
    "    for i,k in enumerate(range(2,N-1)):\n",
    "        M[i,:] = np.array([-Y[k-1], -Y[k-2],U[k-1],U[k-2]])\n",
    "        B[i] = Y[k]\n",
    "\n",
    "    w_lambda = lamb**np.linspace(0,N-1,N) \n",
    "    w_lambda = np.flip(w_lambda)\n",
    "    W = np.diag(w_lambda)\n",
    "    \n",
    "    if abs(np.linalg.det(M.T @ W @ M)) < 1e-6:\n",
    "        return np.zeros(4)\n",
    "    else:\n",
    "        theta_hat_w = inv(M.T @ W @ M) @ M.T@ W @ B\n",
    "        return theta_hat_w\n",
    "    \n",
    "\n",
    "\n",
    "print(ls(U,Y))\n",
    "print(ls_lambda(U,Y,0.9))"
   ]
  },
  {
   "cell_type": "markdown",
   "metadata": {},
   "source": [
    "## Recursive Least Squares algorithm\n",
    "From \"Adaptive control\" By K.J. Åström & Björn Wittermark, the RLS algorithm is then defined as:\n",
    "\n",
    "$$\n",
    "\\theta_k = \\theta_{k-1} + K \\, (y_k - \\varphi_{k-1}^T \\, \\theta_{k-1})\n",
    "$$\n",
    "\n",
    "$$\n",
    "K = P_{k-1} \\, \\varphi_{k-1} \\, (\\lambda + \\varphi_{k-1}^T \\, P_{k-1} \\, \\varphi_{k-1})^{-1}\n",
    "$$\n",
    "\n",
    "$$\n",
    "P_k = (I - K\\, \\varphi_{k-1}^T) \\, P_{k-1} \\, \\frac{1}{\\lambda}\n",
    "$$\n",
    "\n",
    "For a sample intervall of $\\delta_T$ and a desired forgetting time constant $T_f$ the choice of lambda is recomended as\n",
    "\n",
    "$$\n",
    "\\lambda = e^{-\\delta_T/T_f}\n",
    "$$"
   ]
  },
  {
   "cell_type": "markdown",
   "metadata": {},
   "source": [
    "## Estimate parameters from test data\n"
   ]
  },
  {
   "cell_type": "code",
   "execution_count": 7,
   "metadata": {},
   "outputs": [
    {
     "name": "stdout",
     "output_type": "stream",
     "text": [
      "0.9950124791926823\n"
     ]
    },
    {
     "data": {
      "image/png": "[encoded data removed]",
      "text/plain": [
       "<Figure size 432x288 with 1 Axes>"
      ]
     },
     "metadata": {
      "needs_background": "light"
     },
     "output_type": "display_data"
    }
   ],
   "source": [
    "\n",
    "THETAs = np.zeros((4,N))\n",
    "Ps = np.zeros((4,4,N))\n",
    "\n",
    "lamb = np.exp(-dT/10)\n",
    "\n",
    "print(lamb)\n",
    "theta = np.zeros(4)\n",
    "\n",
    "P = np.eye(4)*100 # Tuning parameter, what to initalize the parameter variance to\n",
    "\n",
    "for i in range(2,N):\n",
    "    \n",
    "    # Fetch all variables\n",
    "    phi = np.array([-Y[i-1],-Y[i-2],U[i-1],U[i-2]])\n",
    "    K = P @ phi * 1/(lamb + phi.T @ P @ phi)\n",
    "    P = (np.eye(4) - np.outer(K, phi))@P*1/lamb # The np.outer function was missing and caused me a lot of trouble...\n",
    "\n",
    "    theta = theta + K*(Y[i] - phi.T @ theta)\n",
    "    \n",
    "    Ps[:,:,i] = P\n",
    "    THETAs[:,i] = theta\n",
    "    \n",
    "plt.plot(T,THETAs[0,:],'r')\n",
    "plt.plot(T,np.ones(N)*a1,'r--')\n",
    "\n",
    "plt.plot(T,THETAs[1,:],'b')\n",
    "plt.plot(T,np.ones(N)*a2,'b--')\n",
    "\n",
    "plt.plot(T,THETAs[2,:],'k')\n",
    "plt.plot(T,np.ones(N)*b0,'k--')\n",
    "\n",
    "plt.plot(T,THETAs[3,:],'g')\n",
    "plt.plot(T,np.ones(N)*b1,'g--')\n",
    "\n",
    "plt.ylim([-2,1])\n",
    "plt.savefig('rls_params.png',dpi=300)\n",
    "plt.show()\n",
    "\n",
    "\n"
   ]
  },
  {
   "cell_type": "code",
   "execution_count": 8,
   "metadata": {},
   "outputs": [
    {
     "data": {
      "image/png": "[encoded data removed]",
      "text/plain": [
       "<Figure size 432x288 with 1 Axes>"
      ]
     },
     "metadata": {
      "needs_background": "light"
     },
     "output_type": "display_data"
    }
   ],
   "source": [
    "# Comparison running the non-recursive least squares with discount\n",
    "# Note that the conventional least squares does not produce any output until after\n",
    "# approx 5-10 samples.\n",
    "\n",
    "from scipy.linalg import inv\n",
    "\n",
    "THETAs = np.zeros((4,N))\n",
    "\n",
    "#lamb = 0.9\n",
    "\n",
    "Y_MEAS = np.array([0])\n",
    "U_MEAS = np.array([0])\n",
    "\n",
    "for i in range(2,N):\n",
    "    \n",
    "    # Fetch all variables\n",
    "    Y_MEAS = np.append(Y_MEAS,Y[i])\n",
    "    U_MEAS = np.append(U_MEAS,U[i])\n",
    "    \n",
    "    #THETAs[:,i] = ls(U_MEAS,Y_MEAS)\n",
    "    THETAs[:,i] = ls_lambda(U_MEAS,Y_MEAS,lamb)\n",
    "    \n",
    "\n",
    "plt.plot(T,THETAs[0,:],'r')\n",
    "plt.plot(T,np.ones(N)*a1,'r--')\n",
    "\n",
    "plt.plot(T,THETAs[1,:],'b')\n",
    "plt.plot(T,np.ones(N)*a2,'b--')\n",
    "\n",
    "plt.plot(T,THETAs[2,:],'k')\n",
    "plt.plot(T,np.ones(N)*b0,'k--')\n",
    "\n",
    "plt.plot(T,THETAs[3,:],'g')\n",
    "plt.plot(T,np.ones(N)*b1,'g--')\n",
    "\n",
    "plt.ylim([-2,1])\n",
    "\n",
    "plt.show()\n"
   ]
  },
  {
   "cell_type": "markdown",
   "metadata": {},
   "source": [
    "## Parameter uncertainty\n",
    "Appart from the parameter estimates them self, the $P$ matrix is the convariance matrix of the estimated parameters. So one can also include the parameter uncertainty in the estimate. This estimate is related to the choice of $\\lambda$."
   ]
  },
  {
   "cell_type": "code",
   "execution_count": 9,
   "metadata": {},
   "outputs": [
    {
     "data": {
      "image/png": "[encoded data removed]",
      "text/plain": [
       "<Figure size 432x288 with 1 Axes>"
      ]
     },
     "metadata": {
      "needs_background": "light"
     },
     "output_type": "display_data"
    }
   ],
   "source": [
    "\n",
    "a1_hat = THETAs[0,:]\n",
    "a1_var = Ps[0,0,:]\n",
    "a1_sigma = np.sqrt(a1_var)\n",
    "\n",
    "a1_upper = a1_hat + 3*a1_sigma\n",
    "a1_lower = a1_hat - 3*a1_sigma\n",
    "\n",
    "plt.plot(T,np.ones(N)*a1,'k--')\n",
    "plt.plot(T,a1_hat,'r')\n",
    "plt.fill_between(T,a1_upper,a1_lower,color='r',alpha=0.2)\n",
    "\n",
    "plt.ylabel('a1')\n",
    "plt.legend(['True value','Estimated','3\\sigma'])\n",
    "plt.savefig('rls_estim_var.png',dpi=300)\n",
    "plt.show()\n"
   ]
  },
  {
   "cell_type": "markdown",
   "metadata": {},
   "source": [
    "## RLS Class for future use\n",
    "Please note that it is not intended for production use!"
   ]
  },
  {
   "cell_type": "code",
   "execution_count": 10,
   "metadata": {},
   "outputs": [],
   "source": [
    "class RLS:\n",
    "    def __init__(self, nr_u, nr_y, d0, lamb, theta0 = None, P0 = None):\n",
    "        \n",
    "        self.nr_u = nr_u\n",
    "        self.nr_y = nr_y\n",
    "        self.lamb = lamb\n",
    "        self.d0 = d0\n",
    "        \n",
    "        self.old_u = np.zeros(nr_u + d0)\n",
    "        self.old_y = np.zeros(nr_y)\n",
    "        \n",
    "        th_dim = nr_u + nr_y\n",
    "        \n",
    "        if type(theta0) != type(None):\n",
    "            self.theta = theta0\n",
    "        else:\n",
    "            self.theta = np.zeros(th_dim)\n",
    "            \n",
    "        if type(P0) != type(None):\n",
    "            self.P = P0\n",
    "        else:\n",
    "            self.P = np.eye(th_dim)\n",
    "                \n",
    "\n",
    "    def sample(self, u, y):\n",
    "        \n",
    "        self.old_u[1:] = self.old_u[0:-1]\n",
    "        self.old_u[0] = u\n",
    "        \n",
    "        phi = np.concatenate([-self.old_y, self.old_u[self.d0:]])\n",
    "        lamb = self.lamb\n",
    "        \n",
    "        P = self.P\n",
    "        theta = self.theta\n",
    "        \n",
    "        PN = self.nr_u + self.nr_y\n",
    "        \n",
    "        K = P @ phi * 1/(lamb + phi.T @ P @ phi)\n",
    "        P = (np.eye(PN) - np.outer(K, phi))@P*1/lamb \n",
    "\n",
    "        theta = theta + K*(y - phi.T @ theta)\n",
    "        \n",
    "        self.theta = theta\n",
    "        self.P = P\n",
    "        \n",
    "        self.old_y[1:] = self.old_y[0:-1]\n",
    "        self.old_y[0] = y\n",
    "        \n",
    "        return theta\n",
    "    \n",
    "    def get_estimate(self):\n",
    "        return self.theta\n",
    "    \n",
    "    def get_variance(self):\n",
    "        return self.P\n"
   ]
  },
  {
   "cell_type": "code",
   "execution_count": 11,
   "metadata": {},
   "outputs": [
    {
     "data": {
      "image/png": "[encoded data removed]",
      "text/plain": [
       "<Figure size 432x288 with 2 Axes>"
      ]
     },
     "metadata": {
      "needs_background": "light"
     },
     "output_type": "display_data"
    }
   ],
   "source": [
    "THETAs = np.zeros((4,N))\n",
    "Ps = np.zeros((4,4,N))\n",
    "\n",
    "lamb = np.exp(-dT/10)\n",
    "\n",
    "P0 = np.eye(4)*100 # Tuning parameter, what to initalize the parameter variance to\n",
    "\n",
    "rls = RLS(2,2,1,lamb,P0 = P0)\n",
    "\n",
    "\n",
    "for i in range(N):\n",
    "    \n",
    "    rls.sample(U[i],Y[i])\n",
    "    \n",
    "    \n",
    "    Ps[:,:,i] = rls.get_variance()\n",
    "    THETAs[:,i] = rls.get_estimate()\n",
    "    \n",
    "plt.subplot(2,1,1)\n",
    "plt.plot(T,THETAs[0,:],'r')\n",
    "plt.plot(T,np.ones(N)*a1,'r--')\n",
    "\n",
    "plt.plot(T,THETAs[1,:],'b')\n",
    "plt.plot(T,np.ones(N)*a2,'b--')\n",
    "\n",
    "\n",
    "plt.subplot(2,1,2)\n",
    "\n",
    "plt.plot(T,THETAs[2,:],'k')\n",
    "plt.plot(T,np.ones(N)*b0,'k--')\n",
    "\n",
    "plt.plot(T,THETAs[3,:],'g')\n",
    "plt.plot(T,np.ones(N)*b1,'g--')\n",
    "\n",
    "\n",
    "plt.ylim([-0.1,0.2])\n",
    "\n",
    "plt.show()"
   ]
  },
  {
   "cell_type": "code",
   "execution_count": null,
   "metadata": {},
   "outputs": [],
   "source": []
  },
  {
   "cell_type": "code",
   "execution_count": null,
   "metadata": {},
   "outputs": [],
   "source": []
  },
  {
   "cell_type": "code",
   "execution_count": null,
   "metadata": {},
   "outputs": [],
   "source": []
  },
  {
   "cell_type": "code",
   "execution_count": null,
   "metadata": {},
   "outputs": [],
   "source": []
  },
  {
   "cell_type": "code",
   "execution_count": null,
   "metadata": {},
   "outputs": [],
   "source": []
  },
  {
   "cell_type": "code",
   "execution_count": null,
   "metadata": {},
   "outputs": [],
   "source": []
  }
 ],
 "metadata": {
  "kernelspec": {
   "display_name": "Python 3",
   "language": "python",
   "name": "python3"
  },
  "language_info": {
   "codemirror_mode": {
    "name": "ipython",
    "version": 3
   },
   "file_extension": ".py",
   "mimetype": "text/x-python",
   "name": "python",
   "nbconvert_exporter": "python",
   "pygments_lexer": "ipython3",
   "version": "3.8.5"
  }
 },
 "nbformat": 4,
 "nbformat_minor": 4
}
